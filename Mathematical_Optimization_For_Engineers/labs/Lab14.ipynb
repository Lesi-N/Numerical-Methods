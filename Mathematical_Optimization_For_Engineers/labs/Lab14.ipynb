{
  "metadata": {
    "kernelspec": {
      "name": "python",
      "display_name": "Python (Pyodide)",
      "language": "python"
    },
    "language_info": {
      "codemirror_mode": {
        "name": "python",
        "version": 3
      },
      "file_extension": ".py",
      "mimetype": "text/x-python",
      "name": "python",
      "nbconvert_exporter": "python",
      "pygments_lexer": "ipython3",
      "version": "3.8"
    }
  },
  "nbformat_minor": 5,
  "nbformat": 4,
  "cells": [
    {
      "cell_type": "markdown",
      "source": "<div>\n<img src=\"figures/svtLogo.png\"/>\n</div>\n<h1><center>Mathematical Optimization for Engineers</center></h1>\n<h2><center>Lab 14 - Uncertainty</center></h2>",
      "metadata": {},
      "id": "2cd465be-8600-4dea-a99f-80b813e2063c"
    },
    {
      "cell_type": "markdown",
      "source": "We want to optimize the total annualized cost of a heating and electric power system. Three different technologies are present: \n- a gas boiler\n- a combined heat and power plant\n- a photovoltaic module\n\nWe first the the nominal case without uncertanties. \nNext, we will consider a two-stage approach to consider uncertainties in the electricity demand and the power producable via PV. \nUncertain variables are the solar power and the power demand. ",
      "metadata": {},
      "id": "b7564fd6-b96e-473b-bc21-5cca5efeea86"
    },
    {
      "cell_type": "code",
      "source": "# import cell\nfrom scipy.optimize import minimize, NonlinearConstraint, Bounds",
      "metadata": {},
      "execution_count": null,
      "outputs": [],
      "id": "46300c05-704d-4212-ab59-69e73a224897"
    },
    {
      "cell_type": "code",
      "source": "class Boiler():\n    \"\"\"Boiler \n    Gas in, heat out\n    \"\"\"\n    \n    def __init__(self):\n        self.M = 0.75  \n        \n    def invest_cost(self, Qdot_nom):\n        inv = 100 * Qdot_nom ** self.M\n        return inv\n    \n    def oper_cost(self, Qdot_nom, op_load): \n        cost_gas = 60\n        cost_gas_oper = Qdot_nom * cost_gas * op_load\n        \n        return cost_gas_oper\n    \n    def heat(self, Qdot_nom, op_load):\n        eta_th = 0.9 - (1 - op_load) * 0.05\n        return Qdot_nom * op_load * eta_th\n    ",
      "metadata": {},
      "execution_count": null,
      "outputs": [],
      "id": "d1dd0cec-b5b0-4e0b-ae3d-e206fae51c34"
    },
    {
      "cell_type": "code",
      "source": "class CHP():\n    \"\"\"Combined-heat-and-power (CHP) engine \n    Gas in, heat and power out\n    \"\"\"\n\n    def __init__(self):\n        self.c_ref = 150\n        self.M = 0.80  # [-], cost exponent\n        self.cost_gas = 60\n    \n    def invest_cost(self, Qdot_nom):\n        inv = self.c_ref * (Qdot_nom) ** self.M\n        return inv\n    \n    def oper_cost(self, Qdot_nom, op_load): \n        cost_gas_oper = Qdot_nom * op_load * self.cost_gas\n        return cost_gas_oper\n    \n    def elec_out(self, Qdot_nom, op_load):\n        eta_el = 0.3 - (1 - op_load) * 0.1\n        out_pow = eta_el * Qdot_nom * op_load\n        return out_pow\n    \n    def heat(self, Qdot_nom, op_load): \n        eta_th = 0.6 - (1-op_load) * 0.05  \n        return Qdot_nom * eta_th * op_load\n",
      "metadata": {},
      "execution_count": null,
      "outputs": [],
      "id": "30b3dc07-7123-4eb7-9a47-c2e312600a59"
    },
    {
      "cell_type": "code",
      "source": "class PV:\n    \"\"\"Photovoltaic modules (PV) \n    solar \n    \"\"\" \n    \n    def __init__(self): \n        self.M = 0.9  # [-], cost exponent\n       \n    def invest_cost(self, p_nom):\n        inv = 200 * p_nom ** self.M\n        return inv\n    \n    def oper_cost(self, out_nom): \n        return 0\n    \n    def elec_out(self, p_nom, op_load, solar):\n        return p_nom * op_load * solar\n    ",
      "metadata": {},
      "execution_count": null,
      "outputs": [],
      "id": "79d54c25-0d92-40ac-97e8-3655bb272391"
    },
    {
      "cell_type": "code",
      "source": "def objective_function(x, PV, Boiler, CHP, scenarios):\n    total_cost = 0\n    design_PV = x[0]  \n    design_boiler = x[1]  \n    design_CHP = x[2] \n    \n    # investment costs\n    PV_cost = PV.invest_cost(design_PV) \n    Boiler_cost = Boiler.invest_cost(design_boiler)  \n    CHP_cost = CHP.invest_cost(design_CHP) \n\n    total_cost = PV_cost + Boiler_cost + CHP_cost\n    \n    # expected operating costs\n    operating_cost = 0\n    \n    idx_shift = 3\n    for idx, iSec in enumerate(scenarios): \n        indexOffset = 3 + idx * idx_shift\n        \n        op_cost = Boiler.oper_cost(design_boiler, x[indexOffset + 1]) \\\n             + CHP.oper_cost(design_CHP, x[indexOffset + 2])\n        total_cost = total_cost + iSec[\"p\"] * op_cost\n   \n    return total_cost",
      "metadata": {},
      "execution_count": null,
      "outputs": [],
      "id": "4d675538-f021-498f-b10b-0178493be771"
    },
    {
      "cell_type": "code",
      "source": "def constraint_function(x, PV, Boiler, CHP, scenarios): \n    heat_demand = 200\n    \n    design_PV = x[0]  \n    design_boiler = x[1]  \n    design_CHP = x[2] \n\n    # loop over all uncertatintes\n    idx_shift = 3\n    for idx, iSec in enumerate(scenarios): \n        idx_offset = 3 + idx * idx_shift\n        elec_demand = iSec[\"elec\"]\n        \n        # heat demand\n        c.append(Boiler.heat(design_boiler, x[idx_offset + 1]) \\\n             + CHP.heat(design_CHP, x[idx_offset + 2]) - heat_demand)     \n        # electricty demand \n        c.append(PV.elec_out(design_PV, x[idx_offset], iSec[\"solar\"])\n              + CHP.elec_out(design_CHP, x[idx_offset + 2]) - elec_demand)\n   \n    return c",
      "metadata": {},
      "execution_count": null,
      "outputs": [],
      "id": "f483449b-f29a-4e3d-9c2b-e8f3762403bd"
    },
    {
      "cell_type": "code",
      "source": "def print_solution(x):\n    print('PV design: ', x[0])\n    print('Boiler design: ', x[1])\n    print('CHP design: ', x[2])\n    \n    # print scenarios\n    n_scenarios = int((len(x) - 3) / 3)\n    for i_scenario in range(1, n_scenarios + 1): \n            print('Scenario ' + str(i_scenario) + ' PV load: ', x[3 * i_scenario])\n            print('Scenario ' + str(i_scenario) + ' Boiler load: ', x[3 * i_scenario + 1])\n            print('Scenario ' + str(i_scenario) + ' CHP load: ', x[3 * i_scenario + 2], end='\\n\\n')\n    ",
      "metadata": {},
      "execution_count": null,
      "outputs": [],
      "id": "75f56208-7997-46da-b182-c2a0055fcc91"
    },
    {
      "cell_type": "code",
      "source": "# nominal case\nscenario1 = {\"p\": 1.0, \"solar\":1.0, \"elec\": 100}\nscenarios = [scenario1] # base scenario\n",
      "metadata": {},
      "execution_count": null,
      "outputs": [],
      "id": "9d797902-68d3-45f4-9080-296eb1b08a4a"
    },
    {
      "cell_type": "code",
      "source": "# now consider different scenarios\nmyPV = PV()\nmyBoiler = Boiler()\nmyCHP = CHP()\ncons = lambda x: constraint_function(x, myPV, myBoiler, myCHP, scenarios)\nobj = lambda x: objective_function(x, myPV, myBoiler, myCHP, scenarios)\n# constraints need bounds\nnlc = NonlinearConstraint(cons, 0, 0)\n# bounds for operation 0 . 1\nx_guess = [200,200,200, 1,1,1 ]\n# bounds for decision variables\nlbs = [0, 0, 0, 0, 0, 0]\nubs = [10000, 10000, 10000, 1, 1, 1]\nbnds = Bounds(lbs, ubs)\n",
      "metadata": {},
      "execution_count": null,
      "outputs": [],
      "id": "4c0099ff-f07a-4152-a9d5-6778c17d8fe2"
    },
    {
      "cell_type": "code",
      "source": "res = minimize(obj, x_guess, method = 'SLSQP', bounds=bnds,\n               constraints = nlc,\n               options={\"maxiter\": 25, 'iprint': 2, 'disp': True})\n",
      "metadata": {},
      "execution_count": null,
      "outputs": [],
      "id": "57b7c594-f188-47ce-852c-f3b310be6fb7"
    },
    {
      "cell_type": "code",
      "source": "print_solution(res.x)",
      "metadata": {},
      "execution_count": null,
      "outputs": [],
      "id": "5279c549-d545-4c8b-9383-963b5b5e1577"
    },
    {
      "cell_type": "code",
      "source": "# nominal \n# uncertanties: power demand and solar power (relative 1.0)\nscenario1 = {\"p\": 0.4, \"solar\":1.0, \"elec\": 100}\nscenario2 = {\"p\": 0.3, \"solar\":1.0, \"elec\": 120}\nscenario3 = {\"p\": 0.3, \"solar\":0.5, \"elec\": 80}\n\n# put scenarios together\nscenarios = [scenario1] # some base scenario\nscenarios.append(scenario2)\nscenarios.append(scenario3)\n\nprint(scenarios)",
      "metadata": {},
      "execution_count": null,
      "outputs": [],
      "id": "df755a2c-ac62-4731-a0a5-e6bdd9d0f373"
    },
    {
      "cell_type": "code",
      "source": "myPV = PV()\nmyBoiler = Boiler()\nmyCHP = CHP()\ncons = lambda x: constraint_function(x, myPV, myBoiler, myCHP, scenarios)\nobj = lambda x: objective_function(x, myPV, myBoiler, myCHP, scenarios)\n# bounds and constraints\nnonlinear_constraints = NonlinearConstraint(cons, 0, 0)\nx_guess = [200,200,200, 1,1,1, 1,1,1, 1,1,1 ]\nlbs = [0, 0, 0,   0, 0, 0,  0, 0, 0,  0, 0, 0]\nubs = [10000, 10000, 10000, 1, 1, 1, 1, 1, 1, 1, 1, 1]\nbnds = Bounds(lbs, ubs)\n\n\nres = minimize(obj, x_guess, method = 'SLSQP', bounds=bnds,\n               constraints = nonlinear_constraints,\n               options={\"maxiter\": 15, 'iprint': 2, 'disp': True})",
      "metadata": {},
      "execution_count": null,
      "outputs": [],
      "id": "793c6459-aed7-4122-8500-b04191884060"
    },
    {
      "cell_type": "code",
      "source": "print_solution(res.x)",
      "metadata": {},
      "execution_count": null,
      "outputs": [],
      "id": "70626e9b-fcb8-4b16-8703-aeb6ce87e72a"
    },
    {
      "cell_type": "code",
      "source": "",
      "metadata": {},
      "execution_count": null,
      "outputs": [],
      "id": "96fb4c4b-0f09-468a-a36d-5d34ab8b9b31"
    }
  ]
}