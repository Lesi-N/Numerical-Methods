{
  "metadata": {
    "kernelspec": {
      "name": "python",
      "display_name": "Python (Pyodide)",
      "language": "python"
    },
    "language_info": {
      "codemirror_mode": {
        "name": "python",
        "version": 3
      },
      "file_extension": ".py",
      "mimetype": "text/x-python",
      "name": "python",
      "nbconvert_exporter": "python",
      "pygments_lexer": "ipython3",
      "version": "3.8"
    }
  },
  "nbformat_minor": 5,
  "nbformat": 4,
  "cells": [
    {
      "cell_type": "markdown",
      "source": "<div>\n<img src=\"figures/svtLogo.png\"/>\n</div>\n<h1><center>Mathematical Optimization for Engineers</center></h1>\n<h2><center>Lab 12 - Direct single shooting</center></h2>",
      "metadata": {},
      "id": "4eb4dcd5-0030-4343-ad64-18111a2a994a"
    },
    {
      "cell_type": "markdown",
      "source": "$\\newcommand{\\ddt}[1]{\\frac{d#1}{dt}\\Bigr \\rvert_{t}}$\nIn this exercise, we want to solve the van der Pol oscillator optimal control problem using the direct single shooting approach. \nThe problem without state constraints is as follows: \n$\\begin{align}\n\\min_{u(t)} \\int_{t_{0}}^{t_{f}} &x_1^2(t) + x_2^{2}(t) + u(t)^2 dt\\\\\ns.t.  \\ddt{x_1} &= x_2(t),\\quad t\\in [t_0,t_f] \\label{eq:vdp_a} \\\\\n\\ddt{x_2}&= (1-(x_1(t))^2)\\cdot x_2(t) - x_1(t) + u(t),\\quad t\\in [t_0,t_f], \\label{eq:vdp_b} \\\\\n\\ddt{x_3} &= ({x_1}(t))^2 + ({x_2}(t))^2+ (u(t))^2 \\quad t\\in [t_0,t_f] \\\\\n\\mathbf{x}(t_{0}) &= \\left[0.0, 1.0, 0.0 \\right]^{T} \\\\\n-0.3 &\\leq u(t) \\leq 1.0 \\quad \\forall t \\in [t_{0},t_{f}]\\\\\n\\end{align}\n$\nNote that the objective function value can be determined from the value of the state $x_{3}$ and that $t_{f}=5$.\nFor direct single shooting, the differential equations are solved by an integration scheme, which is needed to be set-up. \n",
      "metadata": {},
      "id": "512df639-60e8-485b-b01b-895e42dbad8f"
    },
    {
      "cell_type": "code",
      "source": "import numpy as np\n\nfrom scipy.integrate import odeint, solve_ivp\n\nfrom scipy.optimize import fmin,fmin_bfgs, Bounds, minimize, NonlinearConstraint\n\nfrom matplotlib import pyplot as plt\nfrom matplotlib import animation",
      "metadata": {},
      "execution_count": null,
      "outputs": [],
      "id": "497b4f7a-37b1-4410-965c-0162c54fcfb0"
    },
    {
      "cell_type": "code",
      "source": "def eval_rhs(t, x, u, p):\n    \n    f = np.zeros(3)\n    \n    x1, x2, x3 = x[0], x[1], x[2]\n    \n    f[0] = (1 - x2**2)* x1 - x2 + u\n    f[1] = x1\n    f[2] = x1**2 + x2**2 + u**2\n    \n    return f",
      "metadata": {},
      "execution_count": null,
      "outputs": [],
      "id": "e217586b-4af7-4841-9ad6-d48404794b20"
    },
    {
      "cell_type": "code",
      "source": "def objective_ode_integration(p, func, x0, finalTime, output_state,\n                              is_path_constraint, doPlot):\n    # inputs are as follows\n    # p = parameter vector of control discretization\n    # func: right-hand side of ODE f(t, x, u, p)\n    # x0 = initial condition\n    # finalTime = tN\n    # doPlot = boolean variable, if true, plot solution   \n\n    N = len(p) # Number of discretization intervals\n    h = finalTime /N # length of a single interval\n    n_x = len(x0)  # number of states\n    x0_cur = x0\n    y_all = np.array([x0]).transpose() \n    t_all = np.array([0])\n    output = list()\n\n    for i in range(N): # loop over discretization intervals\n        \n        # solve initial value problem\n        sol = solve_ivp(func, t_span=[i * h, (i + 1) * h], y0=x0_cur, t_eval=np.linspace(i*h, (i+1)*h, 100), args=(p[i], 0.0))\n        y = sol.y\n        \n        # update initial conditions\n        x0_cur = y[0:n_x, -1]\n\n        y_all = np.concatenate((y_all, sol.y), axis=1)\n        t_all = np.concatenate((t_all, sol.t), axis=0)\n        output.append(y[output_state, -1])\n\n\n\n    if doPlot:\n        y_all = np.array(y_all)\n        plt.subplot(221)\n        plt.plot(t_all, y_all[0, :])\n        plt.title('x1')\n\n        plt.subplot(222)\n        plt.plot(t_all, y_all[1, :])\n        plt.title('x2')\n\n        plt.subplot(223)\n        plt.plot(t_all, y_all[2, :])\n        plt.title('x3')\n        #\n        plt.subplot(224)\n        plt.plot(np.linspace(0, finalTime, N), p)\n        plt.title('u')\n\n        plt.tight_layout()\n        plt.show()\n        \n    if not is_path_constraint: \n        output = output[-1]\n    else:\n        # constraint hard coded here to allow for \n        # constraint definition with arguments\n        # in scipy, c(x) >= 0\n        output = np.array(output) + 0.4\n\n    return output",
      "metadata": {},
      "execution_count": null,
      "outputs": [],
      "id": "782c14bd-efcf-4fa4-80ec-ada6d97cfb2a"
    },
    {
      "cell_type": "code",
      "source": "objective_ode_integration([1.0, 0.5, 0.2, 0.4], eval_rhs, [0, 1, 0], 5, [], [], True)",
      "metadata": {},
      "execution_count": null,
      "outputs": [],
      "id": "e9025106-f883-4cd8-a544-1e5872919e23"
    },
    {
      "cell_type": "code",
      "source": "finalTime = 5\nN = 25 # Number of discretization intervals for the control\ndoPlot = False\np0 = 1.0*np.ones(N) # initial guess for optimization\nx0 = [0, 1, 0]\n\nbnds = Bounds(-0.3, 1.0)\n\n# define objective\noutput_state = 2  # for objective\nis_path_constraint = False\n# call optimization with arguments \n# 'eval_rhs, x0, finalTime, output_state, is_path_constraint, doPlot'\nsolDO = minimize(objective_ode_integration, p0, \\\n             args=(eval_rhs, x0, finalTime, output_state, is_path_constraint, doPlot), \n              bounds = bnds, method='SLSQP', jac=None, \n                 options={'iprint':3, 'disp': True})\n\n# call ODE integration to plot trajectories with optimal solution of controls\nobjective_ode_integration(solDO.x, eval_rhs, [0, 1, 0], 5, [], [], True)\n",
      "metadata": {},
      "execution_count": null,
      "outputs": [],
      "id": "2cc402eb-39b3-4898-b920-aae02e3531bb"
    },
    {
      "cell_type": "markdown",
      "source": "## Adding state path constraint\nAfter solvindg the problem without state constraints, we want to include the path constraint on the state $x_1$:\n$ \\begin{align}\nx_1(t) \\geq - 0.4 \\forall t \\in [t_{0},t_{f}]\n\\end{align}$\nFor this task, we must add this constraint to the optimization problem. One way is to define the constraint function as constraint dictionary in Python. ",
      "metadata": {},
      "id": "2819fbce-9e14-40c1-842a-73dcdacd46ce"
    },
    {
      "cell_type": "code",
      "source": "# in scipy, the inequality constraints are defined as\n# c(x) >= 0 \ncons = ({'type': 'ineq',\n       'fun': objective_ode_integration,\n       'args': (eval_rhs, x0, finalTime, 0, True, False)       \n       })\n\noutput_state = 2  # for objective\nis_path_constraint = False\n\n# call optimization with arguments \n# 'eval_rhs, x0, finalTime, output_state, is_path_constraint, doPlot'\nsolDO = minimize(objective_ode_integration, p0, \\\n             args=(eval_rhs, x0, finalTime, output_state, is_path_constraint, doPlot), \n              bounds = bnds, method='SLSQP', jac=None, constraints=cons, \n                 options={'iprint':3, 'disp': True})\n\n\n# call ODE integration to plot trajectories with optimal solution of controls\nobjective_ode_integration(solDO.x, eval_rhs, [0, 1, 0], 5, [], [], True)",
      "metadata": {},
      "execution_count": null,
      "outputs": [],
      "id": "91f6fdcb-b840-438f-ad12-01316c69a658"
    },
    {
      "cell_type": "markdown",
      "source": "## What could be made more efficient for this optimization? ",
      "metadata": {},
      "id": "c914407e-f777-412c-aa40-3155ff2d0b16"
    },
    {
      "cell_type": "markdown",
      "source": "The results from the integration would be used for the objective function and the constraints, not have separate integration for the constraints and the objective.",
      "metadata": {},
      "id": "d60c52bf-96b6-4cc1-b082-b2fe2c9c0069"
    }
  ]
}