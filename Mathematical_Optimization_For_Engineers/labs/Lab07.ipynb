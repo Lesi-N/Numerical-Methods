{
  "metadata": {
    "kernelspec": {
      "name": "python",
      "display_name": "Python (Pyodide)",
      "language": "python"
    },
    "language_info": {
      "codemirror_mode": {
        "name": "ipython",
        "version": 3
      },
      "file_extension": ".py",
      "mimetype": "text/x-python",
      "name": "python",
      "nbconvert_exporter": "python",
      "pygments_lexer": "ipython3",
      "version": "3.6.8"
    }
  },
  "nbformat_minor": 4,
  "nbformat": 4,
  "cells": [
    {
      "cell_type": "markdown",
      "source": "<div>\n<img src=\"figures/svtLogo.png\"/>\n</div>  \n\n<center><h1>Mathematical Optimization for Engineers</h1></center>\n<center><h2>Lab 7 - Interior point method</h2></center>",
      "metadata": {}
    },
    {
      "cell_type": "markdown",
      "source": "Let's consider the following linear optimization problem:\n\n\\begin{align*}\n\t\t\\min_{x_1,x_2} x_1 + x_2 \\\\\n\t\t\\mbox{s.t. } x_1 \\geq -1 \\\\\n\t\t\t\t\t\t\t\t x_2 \\geq -1 \\\\\n\\end{align*}\n\n<u>Task 1</u>: Sketch the feasible region for this problem and contour lines of the objective. Where is the optimal solution?\n\n(done on paper)",
      "metadata": {}
    },
    {
      "cell_type": "markdown",
      "source": "<u>Task 2</u>: Set up the Lagrangian function and write down the KKT-conditions.\n\nL(x1, x2, l1, l2) = x1 + x2 - l1(x1 + 1) - l2(x2 + 1)<br>\n1-l1 = 0 <br>\n1-l2 = 0 <br>\n\nKKT conditions: <br>\nl1(x1 + 1) = 0 <br>\nl2(x2 + 1) = 0 <br>\nx1 + 1 $\\ge$ 0 <br>\nx2 + 1 $\\ge$ 0 <br>\nl1, l2 $\\ge$ 0 <br>\n",
      "metadata": {}
    },
    {
      "cell_type": "markdown",
      "source": "<u>Task 3</u>: Transform the inequalities of the resulting nonlinear equation system into equalities by introducing slack variables.\n\n\nTake s1 $\\ge$ 0, s2 $\\ge$ 0: <br>\nx1 + 1 $\\ge$ 0 => x1 + 1 - s1 = 0 <br>\nx2 + 1 $\\ge$ 0 => x2 + 1 - s2 = 0 <br>\nl1(x1 + 1) = 0 => l1\\*s1 = 0<br>\nl2(x2 + 1) = 0 => l2\\*s2 = 0<br>",
      "metadata": {}
    },
    {
      "cell_type": "markdown",
      "source": "The general idea of interior-point methods is to apply the Newton method (for root finding) to solve (approximated) KKT conditions.",
      "metadata": {}
    },
    {
      "cell_type": "markdown",
      "source": "<u>Task 4</u>: Change the complementarity constraints by adding a parameter $\\tau$ on the right hand side.\n\nTake $\\tau$ > 0:  <br>\nl1\\*s1 = 0 => l1\\*s1 = $\\tau$ <br>\nl2\\*s2 = 0 => l2\\*s2 = $\\tau$ <br>",
      "metadata": {}
    },
    {
      "cell_type": "markdown",
      "source": "<u>Task 5</u>: Solve the nonlinear equation system analytically.\n\n1-l1 = 0 => l1 = 1<br>\n1-l2 = 0 => l2 = 1<br>\n\nl1\\*s1 = $\\tau$ => s1 = $\\tau$ / l1 <br>\nl2\\*s2 = $\\tau$ => s2 = $\\tau$ / l2 <br>\n\nx1 + 1 - s1 = 0  => x1 = s1 - 1 = $\\tau$ / l1 - 1<br>\nx2 + 1 - s2 = 0  => x2 = s2 - 1 = $\\tau$ / l2 - 1<br>",
      "metadata": {}
    },
    {
      "cell_type": "markdown",
      "source": "<u>Task 6</u>: Sketch the central path in the domain of $x_1$ and $x_2$ for different values of $\\tau$.\n\n(done on paper)",
      "metadata": {}
    },
    {
      "cell_type": "markdown",
      "source": "<u>Task 7</u>: Sketch the feasible set of the complementarity constraints for different values of $\\tau$.\n\n(done on paper)",
      "metadata": {}
    },
    {
      "cell_type": "markdown",
      "source": "<u>Task 8</u>: Write down the Newton step for solving the approximated KKT-conditions.\n\n$\\bx$^(k+1) = $\\bx$^k - f($\\bx$^k)/f'($\\bx$^k) => $\\delta$$\\bx$^k = - f($\\bx$^k)/f'($\\bx$^k) => f'($\\bx$^k)\\*$\\delta$$\\bx$^k = - f($\\bx$^k)<br>\n\nIf ||$\\delta$$\\bx$^k|| < $\\epsilon$ for a small $\\epsilon$, the algorithms stops and returns x_(k+1) <br>\n<br>\n\n$\\delta$x_(1,k) = x_(1,k+1) − x_(1,k) <br>\n$\\delta$x_(2,k) = x_(2,k+1) − x_(2,k) <br>\n$\\delta$l_(1,k) = l_(1,k+1) − l_(1,k) <br>\n$\\delta$l_(2,k) = l_(2,k+1) − l_(2,k) <br>\n$\\delta$s_(1,k) = s_(1,k+1) − s_(1,k) <br>\n$\\delta$s_(2,k) = s_(2,k+1) − s_(2,k) <br>\n<br>\n\n$$\\left[\\begin{array}{cccccc}\n    0 & 0 &     0     &     0     & -1  &  0  \\\\\n    0 & 0 &     0     &     0     &  0  & -1  \\\\\n    1 & 0 &    -1     &     0     &  0  &  0  \\\\\n    0 & 1 &     0     &     0     & -1  &  0  \\\\\n    0 & 0 & \\lambda_1 &     0     & s_1 &  0  \\\\\n    0 & 0 &     0     & \\lambda_2 &  0  & s_2\n\\end{array}\\right]\n\\cdot \\left[\\begin{array}{c}\n\\delta x_{1,k}\\\\\n\\delta x_{2,k}\\\\\n\\delta s_{1,k}\\\\\n\\delta s_{2,k}\\\\\n\\delta \\lambda_{1,k}\\\\\n\\delta \\lambda_{2,k}\\\\\n\\end{array}\\right] =\n- \\left[\\begin{array}{c}\n1-\\lambda_1\\\\\n1-\\lambda_2\\\\\nx_1 + 1 - s_1\\\\\nx_2 + 1 - s_2\\\\\n\\lambda_1 s_1\\\\\n\\lambda_2 s_2\\\\\n\\end{array}\\right]\n+ \\left[\\begin{array}{c}\n0\\\\\n0\\\\\n0\\\\\n0\\\\\n\\tau\\\\\n\\tau\\\\\n\\end{array}\\right]$$\n",
      "metadata": {}
    },
    {
      "cell_type": "markdown",
      "source": "We will solve this system using Python below.",
      "metadata": {}
    },
    {
      "cell_type": "code",
      "source": "import autograd\nimport autograd.numpy as np\n\n# RHS of KKT system\n# approximate KKT means the complementarity slackness condition is tau and not 0\ndef F(Z, tau):\n    x1 = Z[0]\n    x2 = Z[1]\n    s1 = Z[2]\n    s2 = Z[3]\n    l1 = Z[4]\n    l2 = Z[5]\n    F = np.array([1-l1,\n         1-l2,\n         x1+1-s1,\n         x2+1-s2,\n         l1*s1 - tau,\n         l2*s2 - tau\n    ])\n    return F",
      "metadata": {},
      "execution_count": null,
      "outputs": []
    },
    {
      "cell_type": "markdown",
      "source": "Typically, it is very difficult to find a strictly feasible initial point. Here, we are able to pick a random point because the problem is very small.",
      "metadata": {}
    },
    {
      "cell_type": "code",
      "source": " def solve(tau):\n\n    # initial point for original problem\n    Z = np.ones(6)\n    \n    # initial guess for Newton's method\n    deltaZ = np.ones(6)\n    \n    # convergence tolerance\n    tol = 1e-5\n    \n    # f_prime\n    jac = autograd.jacobian(F, 0)\n    \n    it=0\n    # KKT conditions are a set of nonlinear equations we need to solve\n    # F(x, slack, lambda) = 0 (for exact KKT)\n    # Apply Newton's method to iterate to the solution. \n    # F(Z0) + Jacobian(Z0) * deltaZ = 0\n    while np.linalg.norm(deltaZ) > tol:\n        it=it+1\n        \n        f_prime = jac(Z,tau)\n        f = F(Z,tau)\n\n        # solve linear equation system\n        deltaZ = np.linalg.solve(f_prime, -f) \n\n        Z = Z + deltaZ\n        \n    return Z, it",
      "metadata": {},
      "execution_count": null,
      "outputs": []
    },
    {
      "cell_type": "code",
      "source": "# loop for different values of tau\ntau = [1.0, 0.5, 0.25, 0.125, 1e-2, 1e-3, 1e-5]\nprint(\"{:<10} {:<20} {:^10}\".format('tau','minimum','iter'))\nfor itau in tau:\n    Zopt, it = solve(itau)\n    print (\"{:<10} [{:^8.4f}, {:^8.4f}] {:<4} {:<20d}\".format(itau,Zopt[0],Zopt[1],' ',it))",
      "metadata": {
        "scrolled": true
      },
      "execution_count": null,
      "outputs": []
    }
  ]
}