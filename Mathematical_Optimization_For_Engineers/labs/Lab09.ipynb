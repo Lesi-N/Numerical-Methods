{
  "metadata": {
    "kernelspec": {
      "name": "python",
      "display_name": "Python (Pyodide)",
      "language": "python"
    },
    "language_info": {
      "codemirror_mode": {
        "name": "python",
        "version": 3
      },
      "file_extension": ".py",
      "mimetype": "text/x-python",
      "name": "python",
      "nbconvert_exporter": "python",
      "pygments_lexer": "ipython3",
      "version": "3.8"
    }
  },
  "nbformat_minor": 4,
  "nbformat": 4,
  "cells": [
    {
      "cell_type": "markdown",
      "source": "<div>\n<img src=\"figures/svtLogo.png\"/>\n</div>",
      "metadata": {}
    },
    {
      "cell_type": "markdown",
      "source": "<center><h1>Mathematical Optimization for Engineers</h1></center>\n<center><h2>Lab 9 - Branch and Bound Method</h2></center>",
      "metadata": {}
    },
    {
      "cell_type": "markdown",
      "source": "In this exercise, we want to consider the following optimization problem\n<br>\n<br>\n$$\\begin{aligned}\n        \\min_{x_1,x_2} \\quad - x_1 - 2 x_2 + 10 \\\\\n        \\mbox{s.t. } \\quad 5 x_1 + 3 x_2 & \\; \\leq \\; 15 \\\\\n                                 x_2 & \\; \\leq \\; 2 \\\\\n                                 x_1,x_2 & \\; \\in \\; \\mathbb{N}_0,\n\\end{aligned}$$\nwhere $\\mathbb{N}_0 = \\{0,1,2,3,\\dots \\}$.\n<br>\n<br>\n<br>\n1.  Sketch the feasible set of the optimization problem and the contour\n    lines of the objective function.\n<br>\n<br>\n2.  Use the Branch & Bound algorithm to solve the\n    optimization problem.  You can solve the relaxed problems either\n    geometrically or you can use the built-in function \"linprog\" from scipy.optimize)\n<br>\n<br>\n3.  Assign the terms \"lower bound\" and \"upper bound\" to each solution of\n    the relaxed problems and construct the branching tree.",
      "metadata": {}
    },
    {
      "cell_type": "markdown",
      "source": "The feasible set and the contour lines of the objective function are sketched in the Figure below. Note that the feasible set consists only of the red points.\n<br>\n<br>\n<div>\n<img src=\"figures/optproblem.png\" width=\"300\"/>\n</div>\n<br>\n<br>\nIn previous labs, we looked at continuous optimization problems where the feasible set was continuous. The methods we have learned so far cannot be applied to discrete feasible sets. This is the reason, why we appply the Branch & Bound method.",
      "metadata": {}
    },
    {
      "cell_type": "markdown",
      "source": "### Branching & bounding of nodes\n\n&emsp; <u>Node 1:</u>\n\nFirst of all, the integer constraints are <u>relaxed</u> by replacing them with\n<br>\n$$\\begin{aligned}\n        x_1 & \\geq 0 \\\\\n        x_2 & \\geq 0\n\\end{aligned}$$\n\nso that the feasible set looks like\n<br>\n<br>\n<div>\n<img src=\"figures/relaxed1.png\" width=\"300\"/>\n</div>\n<br>\n<br>\nNote that the feasible set of the relaxed problem consists of <u>all</u> the points inside and on the boundary of the yellow region, i.e. the relaxed problem is a continunous problem.",
      "metadata": {}
    },
    {
      "cell_type": "markdown",
      "source": "The resulting optimization problem is a linear program. \n\nWe see, that the optimal solution of this problem (blue point) is $x^* = \\left( \\begin{array}{{c}}\n                            1.8 \\\\ 2 \\\\\n                            \\end{array} \\right)$ with objective function\nvalue $f^* = 4.2$. \n<br>\n<br>\n<div>\n<img src=\"figures/node1-1.png\" width=\"300\"/>\n</div>\n<br>\n<br>\n\nUnfortunately, the optimal solution $x^*$ is not integer, thus this is not the optimal solution of the original problem (not even a feasible point, red in colour). On the other hand, the value of the objective function of node 1 is called a \"<u>**global** lower bound</u>\" on the value of the objective function of the original problem.",
      "metadata": {}
    },
    {
      "cell_type": "markdown",
      "source": "&emsp; &emsp; <u>Branching node 1:</u>\n\nSince $x^*$ is not integer, we perform a so-called \"branching\" step.\nThis means, that we take one non-integer variable (in this case $x_1$)\nand branch it. This implies, that we create two subproblems: node 2 and\nnode 3. Node 2 additionally contains the constraint $$\\label{connode2}\n        x_1 \\leq 1$$ and node 3 includes the constraint\n$$\\label{connode3}\n        x_1 \\geq 2$$ \n        \nNote, that $x_1 ^* = 1.8$ lies between the integer\nvalues 1 and 2.\n<br>\n<br>\n<div>\n<img src=\"figures/relaxed23.png\" width=\"300\"/>\n</div>\n<br>\n<br>",
      "metadata": {}
    },
    {
      "cell_type": "markdown",
      "source": "&emsp; <u>Node 2:</u>\n\nThe optimal solution of node 2 is $x^* = \\left( \\begin{array}{{c}}\n                            1 \\\\ 2 \\\\\n                            \\end{array} \\right)$ with objective function\nvalue $f^* = 5$. \n<br>\n<br>\n<div>\n<img src=\"figures/node2-1.png\" width=\"300\"/>\n</div>\n<br>\n<br>\nNow, the optimal solution $x^*$ is integer, thus the\nvalue of the objective function of node 2 is called an \"upper bound\".\nNote that we do not know whether this is also the optimal solution of\nthe original optimization problem, since node 3 may contain a better\ninteger value than this one. Since we found an integer solution in node\n2, we do not have to branch any more. Further branching will not lead to\nbetter objective functions.",
      "metadata": {}
    },
    {
      "cell_type": "markdown",
      "source": "&emsp; <u>Node 3:</u>\n\nThe optimal solution of node 3 is $x^* = \\left( \\begin{array}{{c}}\n                            2 \\\\ 1.\\bar{6} \\\\\n                            \\end{array} \\right)$ with objective function\nvalue $f^* = 4.\\bar{6}$. \n<br>\n<br>\n<div>\n<img src=\"figures/node3-1.png\" width=\"300\"/>\n</div>\n<br>\n<br>\n\nUnfortunately, the optimal solution $x^*$ is\nnot integer, thus this is not the optimal solution of the original\nproblem. Thus, the value of the objective function of node 3 is only a\n\"<u>**local** lower bound</u>\".\n\n&emsp; &emsp; <u>Branching node 3</u>\n\nSince $x^*$ is not integer, we have to branch. This means, that we take one non-integer component from $x^*$ and create two subproblems: node 4 and node 5. Node 4 contains all constraints from node 3 and additionally the constraint\n\\begin{equation} \\label{connode4}\n\t\tx_2 \\leq 1\n\\end{equation}\nand node 5 contains also all constraints from node 3 and additionally the constraint\n\\begin{equation} \\label{connode5}\n\t\tx_2 \\geq 2\n\\end{equation}\n\nNote, that $x_2 ^* = 1.\\bar{6}$ lies between the integer values 1 and 2.\n<br>\n<br>\n<div>\n<img src=\"figures/relaxed45.png\" width=\"300\"/>\n</div>",
      "metadata": {}
    },
    {
      "cell_type": "markdown",
      "source": "&emsp; <u>Node 4:</u>\n\nThe optimal solution of node 4 is\n$x^* = \\left( \\begin{array}{{c}}\n\t\t\t\t\t\t\t2.4 \\\\ 1 \\\\\n\t\t\t\t\t\t\t\\end{array} \\right)$ with objective function value $f^* = 5.6$. \n<br>\n<br>\n<div>\n<img src=\"figures/node4-1.png\" width=\"300\"/>\n</div>\n<br>\n<br>                   \n\nThe optimal solution $x^*$ is not integer, thus this is not the optimal solution of the original problem. Once again, the value of the objective function of node 4 is only a \"**local** lower bound\".",
      "metadata": {}
    },
    {
      "cell_type": "markdown",
      "source": "Normally, we would have to branch now again. However, we are lucky in this case. The value of the objective function of node 4 ($f^* = 5.6$) is greater than the value of the upper bound (node 2: \t$f^* = 5$). When branching node 4, the feasible set gets smaller, thus the values of the objective function will be at least $5.6$. This means we do not have to branch node 4 again and can skip it. The optimal solution of the original problem is not in the feasible set of node 4.",
      "metadata": {}
    },
    {
      "cell_type": "markdown",
      "source": "&emsp; <u>Node 5:</u>\n\nThe feasible set of node 5 is empty. Thus, node 5 can be skipped as well.",
      "metadata": {}
    },
    {
      "cell_type": "markdown",
      "source": "Here's a summary of what we have done so far:\n<br>\n<br>\n<div>\n<img src=\"figures/summary.png\"/>\n</div>\n<br>\n<br>\n<div>\n<img src=\"figures/BBtree-1.png\" width=\"300\"/>\n</div>\n<br>\n<br>",
      "metadata": {}
    },
    {
      "cell_type": "markdown",
      "source": "It is very important to note, that the value of the lower bound on the objective value has to increase or stay constant (the upper bound can decrease or stay constant) while descending in the tree. Obviously, this is here the case: node 1 has a smaller objective value, than node 3. Node 3 has a smaller objective value than node 4.\n\nThe optimal value of the objective function of the original problem has to be at least as high as the value of the objective function of node 1. That's why we call the value of the objective function of node 1 a **global** lower bound. Node 3 has only a **local** lower bound, since it may be possible to find a smaller objective value in node 2 or its subtree.\n\nIf the optimal solution of some node is integer, we call the respective objective value an **upper** bound. In case of upper bounds, we do not distinguish between global or local upper bounds. In some sense, all upper bounds can be seen as global, since the objective value of the original problem is equal to the value of the best (smallest) upper bound.\n\nNote, that these terms only refer to **minimization** problems.",
      "metadata": {}
    },
    {
      "cell_type": "markdown",
      "source": "# Windsurfing problem\nYou are an eager windsurfer and want to advance to racing competitivity. Currently, you do not own a racing board and you have a limited budget to spend. Therefore, you want to optimize on choosing the right board(s) and the right time on surfing lessons. The trainer offers you up to 10 hours of surfing lessons. The boards differ depending on the wind conditions. There can be strong wind or light wind.\n\nAll parameters are given in the template.\n\n\n\nYour task is: \n\nFormulate the optimization problem. \nHint: You can only use a board if you have bought it.  ;)\n\n\n\nSolve the optimization problem using scipy. \n\n\n",
      "metadata": {}
    },
    {
      "cell_type": "code",
      "source": "from scipy.optimize import minimize, Bounds, NonlinearConstraint\nimport numpy as np",
      "metadata": {},
      "execution_count": null,
      "outputs": []
    },
    {
      "cell_type": "code",
      "source": "# use of nonlinear function as it is simpler to implement\n\ndef constraints(x): \n    # return constraints\n    c = np.empty(9)\n    \n    # parameters \n    \n    # variable names (renaming makes the following equations simpler)\n    # continuous degree of freedom\n    surf_hours = x[0]\n    \n    # discrete degree of freedom\n    # buy descions\n    buy1 = x[1]\n    buy2 = x[2]\n    buy3 = x[3]\n\n    # next uses of board\n    board1_high = x[4]\n    board2_high = x[5]\n    board3_high = x[6]\n    \n    board1_low = x[7]\n    board2_low = x[8]\n    board3_low = x[9]\n\n    \n    # board and surf lesson costs \n    p = [112, 50, 218, 25]\n\n    # constraint on budget\n    cost1 = p[0] \n    cost2 = p[1] \n    cost3 = p[2] \n    lesson_cost = p[3] \n    \n    # budget constraint\n    c[0] = lesson_cost * surf_hours + cost1 * buy1 + cost2 * buy2 + cost3 * buy3 \n    \n    # choose only one board for wind_high\n    c[1] = board1_high + board2_high + board3_high - 1\n\n    # choose only boards that you have bought\n    c[2] = board1_high - buy1 \n    c[3] = board2_high - buy2\n    c[4] = board3_high - buy3\n\n    \n    # choose only one board for wind_low\n    c[5] = board1_low + board2_low + board3_low - 1\n    \n    c[6] = board1_low - buy1\n    c[7] = board2_low - buy2\n    c[8] = board3_low - buy3\n\n    return c\n\ndef average_speed_objective(x): \n    \n    # variable names (renaming makes the following equations simpler)\n    surf_lesson_hours = x[0]\n\n    # discrete degree of freedom\n    # buy descions\n    buy1 = x[1]\n    buy2 = x[2]\n    buy3 = x[3]\n\n    # next uses of board\n    board1_high = x[4]\n    board2_high = x[5]\n    board3_high = x[6]\n    \n    board1_low = x[7]\n    board2_low = x[8]\n    board3_low = x[9]\n\n    # next uses of board\n    # your code here\n\n    # parameters\n    speed1_high = 18.1\n    speed2_high = 25.8\n    speed3_high = 25.8\n    lesson_speed_high = 1.5\n    \n    speed1_low = 24.3\n    speed2_low = 21.0\n    speed3_low = 24.3\n    lesson_speed_low = 0.1\n    \n    # wind high\n    speed1 = board1_high * speed1_high \\\n            + board2_high * speed2_high\\\n            + board3_high * speed3_high\\\n            + lesson_speed_high * surf_lesson_hours\n    \n    # wind low\n    speed2 = board1_low * speed1_low \\\n            + board2_low * speed2_low\\\n            + board3_low * speed3_low\\\n            + lesson_speed_low * surf_lesson_hours\n            \n    return -(speed1+speed2)/2  # for maximization\n  \n    \n    ",
      "metadata": {},
      "execution_count": null,
      "outputs": []
    },
    {
      "cell_type": "code",
      "source": "def print_sol(x):     \n    # variable names (renaming makes the following equations simpler)\n    surf_lesson_hours = x[0]\n\n    # discrete degree of freedom\n    # buy descions\n    buy_board_1 = x[1]\n    buy_board_2 = x[2]\n    buy_board_3 = x[3]\n    \n    # next uses of board\n    use_board1_wind_high = x[4]\n    use_board2_wind_high = x[5]\n    use_board3_wind_high = x[6]\n\n    # next uses of board\n    use_board1_wind_low = x[7]\n    use_board2_wind_low = x[8]\n    use_board3_wind_low = x[9]\n    \n    print('surf_lesson_hours ', \"{:.1f}\".format(x[0]))\n    print('buy_board_1 ', \"{:.1f}\".format(x[1]))\n    print('buy_board_2 ', \"{:.1f}\".format(x[2]))\n    print('buy_board_3 ', \"{:.1f}\".format(x[3]))\n    print('use_board1_wind_high ', \"{:.1f}\".format(x[4]))\n    print('use_board2_wind_high ', \"{:.1f}\".format(x[5]))\n    print('use_board3_wind_high ', \"{:.1f}\".format(x[6]))\n    print('use_board1_wind_low ', \"{:.1f}\".format(x[7]))\n    print('use_board2_wind_low ', \"{:.1f}\".format(x[8]))\n    print('use_board3_wind_low ', \"{:.1f}\".format(x[9]))\n    ",
      "metadata": {},
      "execution_count": null,
      "outputs": []
    },
    {
      "cell_type": "code",
      "source": "# solve problem\nbudget = 400\n# either one board and lessons, or two boards or two boards and lessons\nconstraint_lower_bounds = # your code here\nconstraint_upper_bounds = # your code here\n\n# 'Nonlinear constraints'\nnlc = NonlinearConstraint(constraints, constraint_lower_bounds, constraint_upper_bounds)\n\n# Bounds on decision variables\nlower_bound = [0,0,0,0,0,0,0,0,0,0]\nupper_bound = [10,1,1,1,1,1,1,1,1,1]\nbounds = Bounds(lower_bound, upper_bound)\n\n# call optimization routine (SLSQP)\nsol = minimize(average_speed_objective, x0, \\\n                 bounds = bounds, constraints=nlc, method='SLSQP',\\\n                 options={'iprint':3, 'disp': True})\n\nprint_sol(sol.x)",
      "metadata": {},
      "execution_count": null,
      "outputs": []
    },
    {
      "cell_type": "code",
      "source": "# Branching steps\n# manually branch on buy_board_1\n# buy_board_1\n# putting 1.0 does not work for SLSQP...\nlower_bound = [0,0.9999,0,0.0,0,0,0,0,0,0]\nupper_bound = [10,1,1,1,1,1,1,1,1,1]\nbounds = Bounds(lb, ub)\nx0 = [0,0,0,1,0,0,0,0,0,0]\n\nsol = minimize(average_speed_objective, x0, \\\n                 bounds = bounds, constraints=nlc, method='SLSQP',\\\n                 options={'iprint':3, 'disp': True})\n\nprint_sol(sol.x)\n",
      "metadata": {},
      "execution_count": null,
      "outputs": []
    },
    {
      "cell_type": "code",
      "source": "# not buy_board_1\nlower_bounds = [0,0,0,0,0,0,0,0,0,0]\nupper_bounds = [10,0.0001,1,1,1,1,1,1,1,1]\nbounds = Bounds(lb, ub)\nx0 = [0,0,0,0,0,0,0,0,0,0]\n\nsol = minimize(average_speed_objective, x0, \\\n                 bounds = bounds, constraints=nlc, method='SLSQP',\\\n                 options={'iprint':3, 'disp': True})\nprint_sol(sol.x)",
      "metadata": {},
      "execution_count": null,
      "outputs": []
    }
  ]
}