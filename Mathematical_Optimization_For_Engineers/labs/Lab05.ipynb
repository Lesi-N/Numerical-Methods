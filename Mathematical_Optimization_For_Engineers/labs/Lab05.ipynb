{
  "cells": [
    {
      "attachments": {},
      "cell_type": "markdown",
      "metadata": {},
      "source": [
        "<div>\n",
        "<img src=\"figures/svtLogo.png\"/>\n",
        "</div>"
      ]
    },
    {
      "attachments": {},
      "cell_type": "markdown",
      "metadata": {},
      "source": [
        "<center><h1>Mathematical Optimization for Engineers</h1></center>\n",
        "<center><h2>Lab 5 - KKT Conditions of Optimality</h2></center>"
      ]
    },
    {
      "attachments": {},
      "cell_type": "markdown",
      "metadata": {},
      "source": [
        "### KKT conditions for equality-constrained problems\n",
        "\n",
        "We consider the following optimization problem \n",
        "\n",
        "$$\\begin{aligned}\n",
        "\\displaystyle \\min_{x_1,x_2} \\;\\; &x_1+x_2 \\\\\n",
        "\\mbox{s.t. } \\; &x_2=x_1 ^2-2.\n",
        "\\end{aligned}$$"
      ]
    },
    {
      "attachments": {},
      "cell_type": "markdown",
      "metadata": {},
      "source": [
        "<u>Task 1</u>: Reformulate the optimization problem with the general nomenclature\n",
        "of the Lecture in terms of $f$ and $c_{i}$.\n",
        "\n",
        "Let $\\mathbf {x}$ = [x1, x2], then\n",
        "\n",
        "min($\\mathbf {x}$)\n",
        "$c_i$($\\mathbf {x}$) $\\le$ 0 for all i in I\n",
        "$c_i$ = 0 for all i in E\n",
        "\n",
        "$c_i$(x1, x2) = x2 - x1 ** 2 + 2"
      ]
    },
    {
      "attachments": {},
      "cell_type": "markdown",
      "metadata": {},
      "source": [
        "<u>Task 2</u>: What are the gradients of the objective function and the equality\n",
        "constraint function?\n",
        "\n",
        "grad(f) = (1, 1), grad(c) = (-2x_1, 1)"
      ]
    },
    {
      "attachments": {},
      "cell_type": "markdown",
      "metadata": {},
      "source": [
        "<u>Task 3</u>: Sketch the feasible region of the optimization problem for\n",
        "$x_1 \\in [-2,2]$ and $x_2 \\in [-2,3]$; add the contour lines of the\n",
        "objective function; add the direction of the gradients of the\n",
        "objective function and the equality constraint.\n",
        "\n",
        "![Figure 5.1.3](graphs/fig5_1_3.jpg)"
      ]
    },
    {
      "attachments": {},
      "cell_type": "markdown",
      "metadata": {},
      "source": [
        "<u>Task 4</u>: Set up the Langrangian function for this optimization problem\n",
        "\n",
        "L(x1, x2, l) = x1 + x2 + l*(x2 - x1^2 + 2)"
      ]
    },
    {
      "attachments": {},
      "cell_type": "markdown",
      "metadata": {},
      "source": [
        "<u>Task 5</u>: Write down the KKT-conditions with respect to this optimization\n",
        "problem\n",
        "\n",
        "a) L(x1, x2, l) = 0 <br>\n",
        "x1 + x2 + l*(x2 - x1^2 + 2) = 0 <br>\n",
        "(1, 1) + l*(-2x1, 1) = (0, 0)\n",
        "\n",
        "1 + -2lx1 = 0 <br>\n",
        "1 + l = 0 <br>\n",
        "\n",
        "b) x2 - x1^2 + 2 = 0"
      ]
    },
    {
      "attachments": {},
      "cell_type": "markdown",
      "metadata": {},
      "source": [
        "<u>Task 6</u>: Solve manually the KKT-conditions for $x_1$, $x_2$ and the Lagrange\n",
        "multiplier.\n",
        "\n",
        "1 + l = 0 => l = -1 <br>\n",
        "1 + -2lx1 = 0 => x1 = -1/2\n",
        "\n",
        "\n",
        "x2 - x1^2 + 2 = 0 => x2 = -7/4"
      ]
    },
    {
      "attachments": {},
      "cell_type": "markdown",
      "metadata": {},
      "source": [
        "<u>Task 7</u>: Solve numerically (with `fsolve` from scipy.optimize) the KKT-conditions for\n",
        "$x_1$, $x_2$ and the Lagrange multiplier."
      ]
    },
    {
      "cell_type": "code",
      "execution_count": 2,
      "metadata": {
        "scrolled": true,
        "trusted": true
      },
      "outputs": [
        {
          "name": "stdout",
          "output_type": "stream",
          "text": [
            "x1 = -0.50 \n",
            "x2 = -1.75 \n",
            "l = -1.00\n"
          ]
        }
      ],
      "source": [
        "from scipy import optimize as opt\n",
        "import numpy as np\n",
        "\n",
        "def kkt_conditions(y):\n",
        "    conditions = np.zeros(len(y))\n",
        "    x1 = y[0]\n",
        "    x2 = y[1]\n",
        "    l = y[2]\n",
        "    \n",
        "    conditions[0] = 1 - 2*l*x1\n",
        "    conditions[1] = 1 + l\n",
        "    conditions[2] = x2 - x1**2 + 2\n",
        "    \n",
        "    return conditions\n",
        "    \n",
        "\n",
        "y0 = np.array([-1.0, -1.0, -1.0]) # initial guess \n",
        "\n",
        "res = opt.fsolve(kkt_conditions, y0, full_output=False)\n",
        "\n",
        "print (\"x1 = {:.2f} \\nx2 = {:.2f} \\nl = {:.2f}\".format(res[0],res[1],res[2]))"
      ]
    },
    {
      "attachments": {},
      "cell_type": "markdown",
      "metadata": {},
      "source": [
        "### KKT conditions for inequality-constrained problems\n",
        "\n",
        "We consider the following optimization problem \n",
        "\n",
        "$$\\begin{aligned}\n",
        "\\displaystyle \\min_{x_1,x_2} \\quad &x_1+x_2 \\\\\n",
        "\\mbox{s.t. } \\; &x_1 \\geq -2 \\\\\n",
        "&x_2  \\geq -2\n",
        "\\end{aligned}$$"
      ]
    },
    {
      "attachments": {},
      "cell_type": "markdown",
      "metadata": {},
      "source": [
        "<u>Task 1</u>: Reformulate the optimization problem with the general nomenclature\n",
        "of the Lecture in terms of $f$ and $c_{i}$.\n",
        "\n",
        "f(x1, x2) = x1 + x2\n",
        "\n",
        "c_i(x1, x2) = ((-x1 - 2), (-x2 - 2))"
      ]
    },
    {
      "attachments": {},
      "cell_type": "markdown",
      "metadata": {},
      "source": [
        "<u>Task 2</u>: -   What are the gradients of the objective function and the inequality constraints?\n",
        "\n",
        "grad(f) = (1, 1)\n",
        "\n",
        "grad(c1) = (-1, 0)\n",
        "\n",
        "grad(c1) = (0, -1)"
      ]
    },
    {
      "attachments": {},
      "cell_type": "markdown",
      "metadata": {},
      "source": [
        "<u>Task 3</u>: -   Sketch the feasible region of the optimization problem for\n",
        "$x_1 \\in [-3,1]$ and $x_2 \\in [-3,1]$; add the contour lines of the\n",
        "objective function; add the direction of the gradients of the\n",
        "objective function and the inequality constraints.\n",
        "\n",
        "![Figure 5.2.3](graphs/fig5_2_3.jpg)"
      ]
    },
    {
      "attachments": {},
      "cell_type": "markdown",
      "metadata": {},
      "source": [
        "<u>Task 4</u>: Set up the Langrangian function for this optimization problem\n",
        "\n",
        "L(x1, x2, l1, l2) = x1 + x2 + l1*(-x1 - 2) + l2*(-x2 - 2)"
      ]
    },
    {
      "attachments": {},
      "cell_type": "markdown",
      "metadata": {},
      "source": [
        "<u>Task 5</u>: Write down the KKT-conditions with respect to this optimization\n",
        "problem\n",
        "\n",
        "a) L(x1, x2, l1, l2) = 0 <br>\n",
        "x1 + x2 + l1*(-x1 - 2) + l2*(-x2 - 2) = 0 <br>\n",
        "\n",
        "1 - l1 = 0 => l1 = 1 <br>\n",
        "1 - l2 = 0 => l2 = 1 <br>\n",
        "\n",
        "b) x1 + 2 $\\ge$ 0 <br>\n",
        "x2 + 2 $\\ge$ 0 <br>\n",
        "\n",
        "c) l1, l2 $\\ge$ 0 <br>\n",
        "\n",
        "d) l1*(-x1 - 2) = 0 <br>\n",
        "l2*(-x2 - 2) = 0 <br>\n"
      ]
    },
    {
      "attachments": {},
      "cell_type": "markdown",
      "metadata": {},
      "source": [
        "<u>Task 6</u>: Solve manually the KKT-conditions for $x_1$, $x_2$ and the Lagrange\n",
        "multiplier.\n",
        "\n",
        "a,d => x1, x2 = -2"
      ]
    },
    {
      "attachments": {},
      "cell_type": "markdown",
      "metadata": {},
      "source": [
        "### A degenerate case\n",
        "\n",
        "We consider the following optimization problem \n",
        "\n",
        "$$\\begin{aligned}\n",
        "\\displaystyle \\min_{x_1,x_2} \\quad &x_1 \\\\\n",
        "\\mbox{s.t. } \\;  &x_{2} \\leq 0 \\\\\n",
        "&x_{1}^{2} - x_{2} \\leq 0\\,.\n",
        "\\end{aligned}$$"
      ]
    },
    {
      "attachments": {},
      "cell_type": "markdown",
      "metadata": {},
      "source": [
        "<u>Task 1</u>: Write down the KKT-conditions with respect to this optimization\n",
        "problem\n",
        "\n",
        "L(x1, x2, l1, l2) = x1 + l1*x2 + l2*(x1^2 - x2)<br>\n",
        "\n",
        "KKT: <br>\n",
        "a) x1 + l1*x2 + l2*(x1^2 - x2 = 0 <br>\n",
        "1 - 2x1l2 = 0 <br>\n",
        "l1 - l2 = 0 => l1 = l2<br>\n",
        "\n",
        "b) x2 $le$ 0 <br>\n",
        "x1^2 - x2 $le$ 0 <br>\n",
        "\n",
        "c) l1 * x2 = 0 <br>\n",
        "l2*(x1^2 - x2) = 0 <br>"
      ]
    },
    {
      "attachments": {},
      "cell_type": "markdown",
      "metadata": {},
      "source": [
        "<u>Task 2</u>: Solve manually the KKT-conditions for $x_1$, $x_2$ and the Lagrange\n",
        "multipliers.\n",
        "\n",
        "a => 2 cases <br>\n",
        "1) l = 0 => 1 = 0 <br>\n",
        "2) l > 0 => x1,x2 = 0 => 1 = 0<br>"
      ]
    },
    {
      "attachments": {},
      "cell_type": "markdown",
      "metadata": {},
      "source": [
        "<u>Task 3</u>: Sketch the feasible region of the optimization problem; add the contour lines of the\n",
        "objective function; add the direction of the gradients of the objective function and the constraints. Where is the optimum?\n",
        "\n",
        "![Figure 5.3.3](graphs/fig5_3_3.jpg)"
      ]
    }
  ],
  "metadata": {
    "kernelspec": {
      "display_name": "Python (Pyodide)",
      "language": "python",
      "name": "python"
    },
    "language_info": {
      "codemirror_mode": {
        "name": "python",
        "version": 3
      },
      "file_extension": ".py",
      "mimetype": "text/x-python",
      "name": "python",
      "nbconvert_exporter": "python",
      "pygments_lexer": "ipython3",
      "version": "3.8"
    }
  },
  "nbformat": 4,
  "nbformat_minor": 4
}
