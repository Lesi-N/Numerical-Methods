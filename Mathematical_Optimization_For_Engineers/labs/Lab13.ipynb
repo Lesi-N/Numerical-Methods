{
  "metadata": {
    "kernelspec": {
      "name": "python",
      "display_name": "Python (Pyodide)",
      "language": "python"
    },
    "language_info": {
      "codemirror_mode": {
        "name": "python",
        "version": 3
      },
      "file_extension": ".py",
      "mimetype": "text/x-python",
      "name": "python",
      "nbconvert_exporter": "python",
      "pygments_lexer": "ipython3",
      "version": "3.8"
    }
  },
  "nbformat_minor": 5,
  "nbformat": 4,
  "cells": [
    {
      "cell_type": "markdown",
      "source": "<div>\n<img src=\"figures/svtLogo.png\"/>\n</div>\n<h1><center>Mathematical Optimization for Engineers</center></h1>\n<h2><center>Lab 13 - Optimization and Machine learning</center></h2>\n\nIn this exercise, we will optimize a machine learning model. First, the model is trained and in the following, we will compute the optimal inputs.",
      "metadata": {},
      "id": "879e4808-8431-4e9c-ba09-741ac3f1cdb8"
    },
    {
      "cell_type": "code",
      "source": "import numpy as np\nfrom assets import utils \n\nfrom sklearn.neural_network import MLPRegressor\nfrom sklearn.model_selection import train_test_split\n\n\nfrom scipy.optimize import fmin,fmin_bfgs, Bounds, minimize\n\nfrom matplotlib import pyplot as plt\n\n## Johannes M. M. Faust and Ashutosh Manchanda",
      "metadata": {
        "trusted": true
      },
      "execution_count": 1,
      "outputs": [
        {
          "ename": "<class 'ModuleNotFoundError'>",
          "evalue": "No module named 'assets'",
          "traceback": [
            "\u001b[0;31m---------------------------------------------------------------------------\u001b[0m",
            "\u001b[0;31mModuleNotFoundError\u001b[0m                       Traceback (most recent call last)",
            "Cell \u001b[0;32mIn[1], line 2\u001b[0m\n\u001b[1;32m      1\u001b[0m \u001b[38;5;28;01mimport\u001b[39;00m \u001b[38;5;21;01mnumpy\u001b[39;00m \u001b[38;5;28;01mas\u001b[39;00m \u001b[38;5;21;01mnp\u001b[39;00m\n\u001b[0;32m----> 2\u001b[0m \u001b[38;5;28;01mfrom\u001b[39;00m \u001b[38;5;21;01massets\u001b[39;00m \u001b[38;5;28;01mimport\u001b[39;00m utils \n\u001b[1;32m      4\u001b[0m \u001b[38;5;28;01mfrom\u001b[39;00m \u001b[38;5;21;01msklearn\u001b[39;00m\u001b[38;5;21;01m.\u001b[39;00m\u001b[38;5;21;01mneural_network\u001b[39;00m \u001b[38;5;28;01mimport\u001b[39;00m MLPRegressor\n\u001b[1;32m      5\u001b[0m \u001b[38;5;28;01mfrom\u001b[39;00m \u001b[38;5;21;01msklearn\u001b[39;00m\u001b[38;5;21;01m.\u001b[39;00m\u001b[38;5;21;01mmodel_selection\u001b[39;00m \u001b[38;5;28;01mimport\u001b[39;00m train_test_split\n",
            "\u001b[0;31mModuleNotFoundError\u001b[0m: No module named 'assets'"
          ],
          "output_type": "error"
        }
      ],
      "id": "26e1711e-8eb9-43a8-b6b3-4e98d06d9042"
    },
    {
      "cell_type": "code",
      "source": "# Problem statement taken from \n# https://git.rwth-aachen.de/avt-svt/public/MeLOn.git\n############################ LOAD DATA ############################ \n# enter data set information\nproblem_name = \"peaks\"\n# enter file name of training data - \nfilename_data = \"./assets/peaks.csv\"\n# dimensionality of the data\ninput_dim = 2\noutput_dim = 1\n# scale Input to [-1,1] range\nscaleInput = True\n# normalize Output to z-score\nnormalizeOutput = False # was true\n\ndata = np.loadtxt(open(filename_data, \"rb\"), delimiter=\",\")\nX = data[:, :-output_dim]\ny = data[:, input_dim:]\nX_norm = utils.scale(X, scaleInput)\ny_norm = utils.normalize(y, normalizeOutput)\nx_train, x_val, y_train, y_val = train_test_split(X_norm, y_norm, test_size=0.15)\nn_train = x_train.shape[0]\n\n\n",
      "metadata": {
        "trusted": true
      },
      "execution_count": 2,
      "outputs": [
        {
          "ename": "<class 'FileNotFoundError'>",
          "evalue": "[Errno 44] No such file or directory: './assets/peaks.csv'",
          "traceback": [
            "\u001b[0;31m---------------------------------------------------------------------------\u001b[0m",
            "\u001b[0;31mFileNotFoundError\u001b[0m                         Traceback (most recent call last)",
            "Cell \u001b[0;32mIn[2], line 16\u001b[0m\n\u001b[1;32m     13\u001b[0m \u001b[38;5;66;03m# normalize Output to z-score\u001b[39;00m\n\u001b[1;32m     14\u001b[0m normalizeOutput \u001b[38;5;241m=\u001b[39m \u001b[38;5;28;01mFalse\u001b[39;00m \u001b[38;5;66;03m# was true\u001b[39;00m\n\u001b[0;32m---> 16\u001b[0m data \u001b[38;5;241m=\u001b[39m np\u001b[38;5;241m.\u001b[39mloadtxt(\u001b[38;5;28;43mopen\u001b[39;49m\u001b[43m(\u001b[49m\u001b[43mfilename_data\u001b[49m\u001b[43m,\u001b[49m\u001b[43m \u001b[49m\u001b[38;5;124;43m\"\u001b[39;49m\u001b[38;5;124;43mrb\u001b[39;49m\u001b[38;5;124;43m\"\u001b[39;49m\u001b[43m)\u001b[49m, delimiter\u001b[38;5;241m=\u001b[39m\u001b[38;5;124m\"\u001b[39m\u001b[38;5;124m,\u001b[39m\u001b[38;5;124m\"\u001b[39m)\n\u001b[1;32m     17\u001b[0m X \u001b[38;5;241m=\u001b[39m data[:, :\u001b[38;5;241m-\u001b[39moutput_dim]\n\u001b[1;32m     18\u001b[0m y \u001b[38;5;241m=\u001b[39m data[:, input_dim:]\n",
            "File \u001b[0;32m/lib/python3.11/site-packages/IPython/core/interactiveshell.py:284\u001b[0m, in \u001b[0;36m_modified_open\u001b[0;34m(file, *args, **kwargs)\u001b[0m\n\u001b[1;32m    277\u001b[0m \u001b[38;5;28;01mif\u001b[39;00m file \u001b[38;5;129;01min\u001b[39;00m {\u001b[38;5;241m0\u001b[39m, \u001b[38;5;241m1\u001b[39m, \u001b[38;5;241m2\u001b[39m}:\n\u001b[1;32m    278\u001b[0m     \u001b[38;5;28;01mraise\u001b[39;00m \u001b[38;5;167;01mValueError\u001b[39;00m(\n\u001b[1;32m    279\u001b[0m         \u001b[38;5;124mf\u001b[39m\u001b[38;5;124m\"\u001b[39m\u001b[38;5;124mIPython won\u001b[39m\u001b[38;5;124m'\u001b[39m\u001b[38;5;124mt let you open fd=\u001b[39m\u001b[38;5;132;01m{\u001b[39;00mfile\u001b[38;5;132;01m}\u001b[39;00m\u001b[38;5;124m by default \u001b[39m\u001b[38;5;124m\"\u001b[39m\n\u001b[1;32m    280\u001b[0m         \u001b[38;5;124m\"\u001b[39m\u001b[38;5;124mas it is likely to crash IPython. If you know what you are doing, \u001b[39m\u001b[38;5;124m\"\u001b[39m\n\u001b[1;32m    281\u001b[0m         \u001b[38;5;124m\"\u001b[39m\u001b[38;5;124myou can use builtins\u001b[39m\u001b[38;5;124m'\u001b[39m\u001b[38;5;124m open.\u001b[39m\u001b[38;5;124m\"\u001b[39m\n\u001b[1;32m    282\u001b[0m     )\n\u001b[0;32m--> 284\u001b[0m \u001b[38;5;28;01mreturn\u001b[39;00m \u001b[43mio_open\u001b[49m\u001b[43m(\u001b[49m\u001b[43mfile\u001b[49m\u001b[43m,\u001b[49m\u001b[43m \u001b[49m\u001b[38;5;241;43m*\u001b[39;49m\u001b[43margs\u001b[49m\u001b[43m,\u001b[49m\u001b[43m \u001b[49m\u001b[38;5;241;43m*\u001b[39;49m\u001b[38;5;241;43m*\u001b[39;49m\u001b[43mkwargs\u001b[49m\u001b[43m)\u001b[49m\n",
            "\u001b[0;31mFileNotFoundError\u001b[0m: [Errno 44] No such file or directory: './assets/peaks.csv'"
          ],
          "output_type": "error"
        }
      ],
      "id": "ed3d5779-6dfa-43b7-bcad-70bbeade9c9d"
    },
    {
      "cell_type": "code",
      "source": "# training of artificial neural network\n# use relu and (10,10,10) as layer architecture\nregr = MLPRegressor(random_state=1, max_iter=50000, activation='relu', hidden_layer_sizes=(10,10,10), solver='lbfgs')\\\n                   .fit(x_train, np.ravel(y_train))\nprint('R2 for validation data of ANN is: ', regr.score(x_val, y_val))",
      "metadata": {},
      "execution_count": null,
      "outputs": [],
      "id": "df6840e0-ed72-4a2a-88b4-89d625818515"
    },
    {
      "cell_type": "code",
      "source": "# plotting\ny_pred = regr.predict(X_norm)\nn_rt = np.sqrt(n_train).astype(int) \nX = np.zeros((n_rt, n_rt))\nY = np.zeros((n_rt, n_rt))\nZ_true = np.zeros((n_rt, n_rt))\nZ_pred = np.zeros((n_rt, n_rt))\nfor i in range(n_rt):\n    for j in range(n_rt):\n        X[i, j] = X_norm[i * n_rt + j, 0]\n        Y[i, j] = X_norm[i * n_rt + j, 1]\n        Z_true[i, j] = y_norm[i * n_rt + j]\n        Z_pred[i, j] = y_pred[i * n_rt + j]\n\nfig = plt.figure(figsize=plt.figaspect(0.4))\nax = fig.add_subplot(1, 2, 1, projection='3d')\ncmap = plt.get_cmap('coolwarm')\nax.plot_surface(X, Y, Z_true, cmap=cmap)\nax.set_title('training data')\nax.set_xlabel('x0')\nax.set_ylabel('x1')\n\nax = fig.add_subplot(1, 2, 2, projection='3d')\nax.plot_wireframe(X, Y, Z_pred)\nax.set_title('learned function')\nax.set_xlabel('x0')\nax.set_ylabel('x1')\nplt.show()\n",
      "metadata": {},
      "execution_count": null,
      "outputs": [],
      "id": "c586b3c4-382a-4f58-8527-0cc6100c852a"
    },
    {
      "cell_type": "code",
      "source": "def objective_function(x): \n    return regr.predict(x.reshape(-1,2))",
      "metadata": {},
      "execution_count": null,
      "outputs": [],
      "id": "6c994409-6453-4869-9b1c-a4ee2374b917"
    },
    {
      "cell_type": "code",
      "source": "# optimize embedded ANN model with different initial guesses\nbnds = Bounds(-1.0, 1.0)\n\n# minimze the trained ANN using several different initial guesses\nx0 = np.array([0, 0])\nsolLBD = minimize(objective_function, x0, bounds = bnds, method='L-BFGS-B')\nprint('local optimum for x0=', x0, 'is : ', solLBD.fun)\n\nx0 = np.array([-0.25, -0.25])\nsolLBD = minimize(objective_function, x0, bounds = bnds, method='L-BFGS-B')\nprint('local optimum for x0=', x0, 'is : ', solLBD.fun)\n\nx0 = np.array([-1, -1])\nsolLBD = minimize(objective_function, x0, bounds = bnds, method='L-BFGS-B')\nprint('local optimum for x0=', x0, 'is : ', solLBD.fun)\n\nx0 = np.array([0, 0.45])\nsolLBD = minimize(objective_function, x0, bounds = bnds, method='L-BFGS-B')\nprint('local optimum for x0=', x0, 'is : ', solLBD.fun)\n\nx0 = np.array([1, 1])\nsolLBD = minimize(objective_function, x0, bounds = bnds, method='L-BFGS-B')\nprint('local optimum for x0=', x0, 'is : ', solLBD.fun)\n\nx0 = np.array([1, -1])\nsolLBD = minimize(objective_function, x0, bounds = bnds, method='L-BFGS-B')\nprint('local optimum for x0=', x0, 'is : ', solLBD.fun)\n\nx0 = np.array([0.7, -0.7])\nsolLBD = minimize(objective_function, x0, bounds = bnds, method='L-BFGS-B')\nprint('local optimum for x0=', x0, 'is : ', solLBD.fun)",
      "metadata": {},
      "execution_count": null,
      "outputs": [],
      "id": "fc39d074-b3dc-49a8-9b32-74421572f55c"
    }
  ]
}